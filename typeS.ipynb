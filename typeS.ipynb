{
 "cells": [
  {
   "cell_type": "code",
   "execution_count": 1,
   "metadata": {
    "collapsed": false
   },
   "outputs": [
    {
     "data": {
      "text/plain": [
       "['BooleanType',\n",
       " 'BufferType',\n",
       " 'BuiltinFunctionType',\n",
       " 'BuiltinMethodType',\n",
       " 'ClassType',\n",
       " 'CodeType',\n",
       " 'ComplexType',\n",
       " 'DictProxyType',\n",
       " 'DictType',\n",
       " 'DictionaryType',\n",
       " 'EllipsisType',\n",
       " 'FileType',\n",
       " 'FloatType',\n",
       " 'FrameType',\n",
       " 'FunctionType',\n",
       " 'GeneratorType',\n",
       " 'GetSetDescriptorType',\n",
       " 'InstanceType',\n",
       " 'IntType',\n",
       " 'LambdaType',\n",
       " 'ListType',\n",
       " 'LongType',\n",
       " 'MemberDescriptorType',\n",
       " 'MethodType',\n",
       " 'ModuleType',\n",
       " 'NoneType',\n",
       " 'NotImplementedType',\n",
       " 'ObjectType',\n",
       " 'SliceType',\n",
       " 'StringType',\n",
       " 'StringTypes',\n",
       " 'TracebackType',\n",
       " 'TupleType',\n",
       " 'TypeType',\n",
       " 'UnboundMethodType',\n",
       " 'UnicodeType',\n",
       " 'XRangeType',\n",
       " '__all__',\n",
       " '__builtins__',\n",
       " '__doc__',\n",
       " '__file__',\n",
       " '__name__',\n",
       " '__package__']"
      ]
     },
     "execution_count": 1,
     "metadata": {},
     "output_type": "execute_result"
    }
   ],
   "source": [
    "# Understanding the difference between insinstance and type\n",
    "\n",
    "import types\n",
    "\n",
    "a = 1\n",
    "b = open('a','w')\n",
    "c = lambda x: x[1]\n",
    "\n",
    "\n",
    "# See the names inside types module\n",
    "\n",
    "dir(types)"
   ]
  },
  {
   "cell_type": "code",
   "execution_count": 15,
   "metadata": {
    "collapsed": false
   },
   "outputs": [
    {
     "name": "stdout",
     "output_type": "stream",
     "text": [
      "False\n",
      "True\n",
      "True\n",
      "True\n"
     ]
    }
   ],
   "source": [
    "print type(a) == types.InstanceType\n",
    "print type(type(b)) == types.TypeType\n",
    "print type(b) == types.FileType\n",
    "print type(c) == types.LambdaType"
   ]
  },
  {
   "cell_type": "code",
   "execution_count": 8,
   "metadata": {
    "collapsed": false
   },
   "outputs": [
    {
     "data": {
      "text/plain": [
       "True"
      ]
     },
     "execution_count": 8,
     "metadata": {},
     "output_type": "execute_result"
    }
   ],
   "source": [
    "isinstance(a,int)"
   ]
  },
  {
   "cell_type": "code",
   "execution_count": 14,
   "metadata": {
    "collapsed": false
   },
   "outputs": [
    {
     "name": "stdout",
     "output_type": "stream",
     "text": [
      "True\n",
      "False\n"
     ]
    }
   ],
   "source": [
    "#True if one of the options is True\n",
    "\n",
    "print isinstance(a,(int, float))\n",
    "print isinstance(a,(float,type))\n"
   ]
  },
  {
   "cell_type": "code",
   "execution_count": 28,
   "metadata": {
    "collapsed": false
   },
   "outputs": [
    {
     "name": "stdout",
     "output_type": "stream",
     "text": [
      "True\n",
      "True\n",
      "<type 'classobj'>\n",
      "<type 'instance'>\n"
     ]
    }
   ],
   "source": [
    "# comparison between isinstance and type\n",
    "class Human:\n",
    "    pass\n",
    "class I(Human):\n",
    "    pass\n",
    "\n",
    "print isinstance(Human(),Human)\n",
    "print isinstance(I(),Human)\n",
    "print type(Human)\n",
    "print type(Human())"
   ]
  },
  {
   "cell_type": "code",
   "execution_count": 29,
   "metadata": {
    "collapsed": false
   },
   "outputs": [
    {
     "data": {
      "text/plain": [
       "['Human',\n",
       " 'I',\n",
       " 'In',\n",
       " 'Out',\n",
       " '_',\n",
       " '_1',\n",
       " '_12',\n",
       " '_13',\n",
       " '_16',\n",
       " '_17',\n",
       " '_18',\n",
       " '_2',\n",
       " '_3',\n",
       " '_4',\n",
       " '_5',\n",
       " '_8',\n",
       " '__',\n",
       " '___',\n",
       " '__builtin__',\n",
       " '__builtins__',\n",
       " '__doc__',\n",
       " '__name__',\n",
       " '__package__',\n",
       " '_dh',\n",
       " '_i',\n",
       " '_i1',\n",
       " '_i10',\n",
       " '_i11',\n",
       " '_i12',\n",
       " '_i13',\n",
       " '_i14',\n",
       " '_i15',\n",
       " '_i16',\n",
       " '_i17',\n",
       " '_i18',\n",
       " '_i19',\n",
       " '_i2',\n",
       " '_i20',\n",
       " '_i21',\n",
       " '_i22',\n",
       " '_i23',\n",
       " '_i24',\n",
       " '_i25',\n",
       " '_i26',\n",
       " '_i27',\n",
       " '_i28',\n",
       " '_i29',\n",
       " '_i3',\n",
       " '_i4',\n",
       " '_i5',\n",
       " '_i6',\n",
       " '_i7',\n",
       " '_i8',\n",
       " '_i9',\n",
       " '_ih',\n",
       " '_ii',\n",
       " '_iii',\n",
       " '_oh',\n",
       " '_sh',\n",
       " 'a',\n",
       " 'b',\n",
       " 'c',\n",
       " 'exit',\n",
       " 'get_ipython',\n",
       " 'quit',\n",
       " 'types']"
      ]
     },
     "execution_count": 29,
     "metadata": {},
     "output_type": "execute_result"
    }
   ],
   "source": [
    "dir()"
   ]
  },
  {
   "cell_type": "code",
   "execution_count": 31,
   "metadata": {
    "collapsed": false
   },
   "outputs": [
    {
     "data": {
      "text/plain": [
       "[1, 2, 3]"
      ]
     },
     "execution_count": 31,
     "metadata": {},
     "output_type": "execute_result"
    }
   ],
   "source": [
    "x = y = [1,2,3]\n",
    "x = [4,5,6]\n",
    "y"
   ]
  },
  {
   "cell_type": "code",
   "execution_count": 32,
   "metadata": {
    "collapsed": false
   },
   "outputs": [
    {
     "data": {
      "text/plain": [
       "[4, 2, 3]"
      ]
     },
     "execution_count": 32,
     "metadata": {},
     "output_type": "execute_result"
    }
   ],
   "source": [
    "x = y = [1,2,3]\n",
    "x[0] = 4\n",
    "y"
   ]
  },
  {
   "cell_type": "code",
   "execution_count": 34,
   "metadata": {
    "collapsed": false
   },
   "outputs": [
    {
     "data": {
      "text/plain": [
       "([2, 2, 3], [1, 2, 3])"
      ]
     },
     "execution_count": 34,
     "metadata": {},
     "output_type": "execute_result"
    }
   ],
   "source": [
    "x = [1,2,3]\n",
    "y = x[:]\n",
    "x[0] = 2\n",
    "x , y"
   ]
  },
  {
   "cell_type": "code",
   "execution_count": 37,
   "metadata": {
    "collapsed": false
   },
   "outputs": [
    {
     "name": "stdout",
     "output_type": "stream",
     "text": [
      "TrueDiv ---->  1.5   FloorDiv------------> 1\n",
      "TrueDiv ---->  -1.5   FloorDiv------------> -2\n"
     ]
    }
   ],
   "source": [
    "#Divisions in python 2 and 3\n",
    "\n",
    "from operator import truediv, floordiv\n",
    "\n",
    "print \"TrueDiv ----> \", truediv(3,2), \"  FloorDiv------------>\", floordiv(3,2)\n",
    "\n",
    "print \"TrueDiv ----> \", truediv(-3,2), \"  FloorDiv------------>\", floordiv(-3,2)"
   ]
  },
  {
   "cell_type": "code",
   "execution_count": 49,
   "metadata": {
    "collapsed": false
   },
   "outputs": [
    {
     "name": "stdout",
     "output_type": "stream",
     "text": [
      "<type 'tuple'>\n",
      "1\n",
      "2\n",
      "3\n",
      "4\n",
      "5\n"
     ]
    }
   ],
   "source": [
    "#unpacking example\n",
    "\n",
    "iterable = [1,2,3,4,5]\n",
    "\n",
    "def a(*lst):\n",
    "    print type(lst)\n",
    "    for i in lst:\n",
    "        print i\n",
    "        \n",
    "a(*iterable)"
   ]
  },
  {
   "cell_type": "code",
   "execution_count": 53,
   "metadata": {
    "collapsed": false
   },
   "outputs": [
    {
     "name": "stdout",
     "output_type": "stream",
     "text": [
      "[(1, 6, 11), (2, 7, 12), (3, 8, 13), (4, 9, 14)]\n"
     ]
    },
    {
     "data": {
      "text/plain": [
       "[(1, 6, 11), (2, 7, 12), (3, 8, 13), (4, 9, 14), (None, 10, 15)]"
      ]
     },
     "execution_count": 53,
     "metadata": {},
     "output_type": "execute_result"
    }
   ],
   "source": [
    "# transposing a 2D list (if number of innerlist elements is equal)\n",
    "\n",
    "a =[[1,2,3,4],[6,7,8,9,10],[11,12,13,14,15]]\n",
    "print zip(*a)\n",
    "\n",
    "# transposing a 2D list (if number of innerlist elements isn't equal)\n",
    "\n",
    "from itertools import izip_longest\n",
    "a =[[1,2,3,4],[6,7,8,9,10],[11,12,13,14,15]]\n",
    "list(izip_longest(*a))"
   ]
  },
  {
   "cell_type": "code",
   "execution_count": 82,
   "metadata": {
    "collapsed": false
   },
   "outputs": [
    {
     "name": "stdout",
     "output_type": "stream",
     "text": [
      "[(1, 2), (4, 5), (7, 8)]\n",
      "[(1, 2), (4, 5), (7, 8)]\n",
      "[12, 15, 18]\n",
      "[12, 15, 18]\n",
      "[12, 15, 18]\n"
     ]
    }
   ],
   "source": [
    "#WORKS ONLY IN PYTHON2\n",
    "\n",
    "#Unpacking inside functions/lambdas\n",
    "\n",
    "print map(lambda x:(x[0],x[1]), [[1,2,3],[4,5,6],[7,8]]) #takes one inner list at a time and   \n",
    "\n",
    "print map(lambda (x,y,z):(x,y),[[1,2,3],[4,5,6],[7,8,9]])\n",
    "\n",
    "#print map(lambda x,y,z:(x,y),[[1,2,3],[4,5,6],[7,8,9]]) #gives error, says argument mismatch\n",
    "#                ^\n",
    "#        parantheis needed\n",
    "\n",
    "print map(lambda (x,y,z):x+y+z, zip([1,2,3],[4,5,6],[7,8,9]))\n",
    "\n",
    "print map(lambda (x,y,z):x+y+z, zip(range(1,4),range(4,7),range(7,10)))\n",
    "\n",
    "print map(lambda (x,y,z):x+y+z, zip(*[range(1,4),range(4,7),range(7,10)]))"
   ]
  },
  {
   "cell_type": "code",
   "execution_count": 87,
   "metadata": {
    "collapsed": false
   },
   "outputs": [
    {
     "name": "stdout",
     "output_type": "stream",
     "text": [
      "<type 'str'> <type 'unicode'>\n"
     ]
    },
    {
     "data": {
      "text/plain": [
       "True"
      ]
     },
     "execution_count": 87,
     "metadata": {},
     "output_type": "execute_result"
    }
   ],
   "source": [
    "s = 'abcde'\n",
    "u = u'abcde'\n",
    "\n",
    "print type(s), type(u)\n",
    "\n",
    "# Check if u is a string (byte or unicode)\n",
    "\n",
    "isinstance(u,basestring)\n",
    "\n",
    "#from __future__ import unicode_literals\n",
    "\n",
    "#          ^ to get the behavoiur like python3 (evertything is unicode) "
   ]
  },
  {
   "cell_type": "code",
   "execution_count": 96,
   "metadata": {
    "collapsed": false
   },
   "outputs": [
    {
     "name": "stdout",
     "output_type": "stream",
     "text": [
      "\n",
      "No newline ()\n"
     ]
    },
    {
     "name": "stderr",
     "output_type": "stream",
     "text": [
      "Error\n"
     ]
    }
   ],
   "source": [
    "#Variation of print\n",
    "\n",
    "#python2\n",
    "import sys\n",
    "print                         # print a newline\n",
    "print \"No newline\",           # add trailing comma to remove newline \n",
    "print >>sys.stderr, \"Error\"   # print to stderr\n",
    "print()                       # print an empty tuple \"()\""
   ]
  },
  {
   "cell_type": "code",
   "execution_count": 97,
   "metadata": {
    "collapsed": false
   },
   "outputs": [
    {
     "ename": "SyntaxError",
     "evalue": "invalid syntax (<ipython-input-97-cff1050d35c9>, line 3)",
     "output_type": "error",
     "traceback": [
      "\u001b[1;36m  File \u001b[1;32m\"<ipython-input-97-cff1050d35c9>\"\u001b[1;36m, line \u001b[1;32m3\u001b[0m\n\u001b[1;33m    print(\"No newline\", end=\"\")      # end specifies what to append (defaults to newline)\u001b[0m\n\u001b[1;37m                           ^\u001b[0m\n\u001b[1;31mSyntaxError\u001b[0m\u001b[1;31m:\u001b[0m invalid syntax\n"
     ]
    }
   ],
   "source": [
    "#python3\n",
    "print()                          # print a newline (must use parentheses)\n",
    "print(\"No newline\", end=\"\")      # end specifies what to append (defaults to newline)\n",
    "print(\"Error\", file=sys.stderr)  # file specifies the output buffer\n",
    "print(\"A\", \"B\", \"C\", sep=\"\")     # null string for sep: prints as ABC\n",
    "print(\"Comma\", \"separated\", \"output\", sep=\",\")  # sep specifies the separator\n",
    "\n",
    "#print function documentation\n",
    "#print(*objects, sep=' ', end='\\n', file=sys.stdout, flush=False)\n"
   ]
  },
  {
   "cell_type": "code",
   "execution_count": 100,
   "metadata": {
    "collapsed": false
   },
   "outputs": [
    {
     "name": "stdout",
     "output_type": "stream",
     "text": [
      "{'y': 2, 'x': 2, 'z': 2, 'w': 1}\n"
     ]
    }
   ],
   "source": [
    "#Merging two dictionaries\n",
    "\n",
    "dict1 = {'w': 1, 'x': 1}\n",
    "dict2 = {'x': 2, 'y': 2, 'z': 2}\n",
    "\n",
    "print {i:dic[i] for dic in (dict1,dict2) for i in dic} #python2 solution"
   ]
  },
  {
   "cell_type": "code",
   "execution_count": 103,
   "metadata": {
    "collapsed": false
   },
   "outputs": [
    {
     "name": "stdout",
     "output_type": "stream",
     "text": [
      "<generator object <genexpr> at 0x7f6b3cd14140>\n",
      "[1, 3, 5, 7, 9, 11, 13, 15, 17, 19, 21, 23, 25, 27, 29, 31, 33, 35, 37, 39, 41, 43, 45, 47, 49, 51, 53, 55, 57, 59, 61, 63, 65, 67, 69, 71, 73, 75, 77, 79, 81, 83, 85, 87, 89, 91, 93, 95, 97, 99]\n",
      "10\n",
      "9\n",
      "8\n",
      "7\n",
      "6\n",
      "5\n",
      "4\n",
      "3\n",
      "2\n",
      "1\n",
      "10\n",
      "9\n",
      "8\n",
      "7\n",
      "6\n",
      "5\n",
      "4\n",
      "3\n",
      "2\n",
      "1\n"
     ]
    }
   ],
   "source": [
    "# Generator expression\n",
    "\n",
    "print (i for i in range(100) if i%2)\n",
    "print list(i for i in range(100) if i%2)\n",
    "\n",
    "#Generator function \n",
    "def count(n):\n",
    "    while n>0:\n",
    "        yield n\n",
    "        n -=1\n",
    "\n",
    "#iterate through generator         \n",
    "for i in count(10):\n",
    "    print i\n",
    "\n",
    "g = count(10)\n",
    "\n",
    "\n",
    "while True:\n",
    "    try:\n",
    "        print g.next()\n",
    "    except StopIteration:\n",
    "        break\n",
    "    "
   ]
  },
  {
   "cell_type": "code",
   "execution_count": 122,
   "metadata": {
    "collapsed": false
   },
   "outputs": [
    {
     "name": "stdout",
     "output_type": "stream",
     "text": [
      "[1, 1, 2, 3, 5, 8, 13, 21, 34, 55]\n",
      "8\n",
      "1\n",
      "1\n"
     ]
    }
   ],
   "source": [
    "# fibonacci with generator function\n",
    "\n",
    "import itertools\n",
    "\n",
    "def fibonacci():\n",
    "    a,b = 1,1\n",
    "    while True:\n",
    "        yield a\n",
    "        a, b = b , a+b \n",
    "\n",
    "print list(itertools.islice(fibonacci(),10))    \n",
    "\n",
    "def nth(n):\n",
    "    return next(itertools.islice(fibonacci(),n, n+1))\n",
    "\n",
    "print nth(5)\n",
    "\n",
    "a = itertools.islice(fibonacci(),0,3)\n",
    "print a.next()\n",
    "print a.next()\n"
   ]
  },
  {
   "cell_type": "code",
   "execution_count": 129,
   "metadata": {
    "collapsed": false
   },
   "outputs": [
    {
     "name": "stdout",
     "output_type": "stream",
     "text": [
      "0\n",
      "1\n",
      "11\n"
     ]
    }
   ],
   "source": [
    "#Sending object to generator function \n",
    "\n",
    "def accumulator():\n",
    "    total = 0\n",
    "    while True:\n",
    "        value = yield total\n",
    "        total += value\n",
    "\n",
    "g = accumulator()\n",
    "\n",
    "print g.next()\n",
    "\n",
    "print g.send(1)\n",
    "\n",
    "print g.send(10)"
   ]
  },
  {
   "cell_type": "code",
   "execution_count": null,
   "metadata": {
    "collapsed": true
   },
   "outputs": [],
   "source": []
  }
 ],
 "metadata": {
  "kernelspec": {
   "display_name": "Python [gl-env]",
   "language": "python",
   "name": "Python [gl-env]"
  },
  "language_info": {
   "codemirror_mode": {
    "name": "ipython",
    "version": 2
   },
   "file_extension": ".py",
   "mimetype": "text/x-python",
   "name": "python",
   "nbconvert_exporter": "python",
   "pygments_lexer": "ipython2",
   "version": "2.7.12"
  }
 },
 "nbformat": 4,
 "nbformat_minor": 0
}
